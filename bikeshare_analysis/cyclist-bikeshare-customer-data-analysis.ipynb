{
 "cells": [
  {
   "cell_type": "markdown",
   "id": "50ab56bd",
   "metadata": {
    "papermill": {
     "duration": 0.009493,
     "end_time": "2022-05-10T10:10:09.215681",
     "exception": false,
     "start_time": "2022-05-10T10:10:09.206188",
     "status": "completed"
    },
    "tags": []
   },
   "source": [
    "## Introduction\n",
    "BikeShare Cyclist a fictional bike transportation company based in Chicago, Illinois is faced with the issue of converting casual bike riders into members. I received a data set which includes members and casual riders transport details for four quarters in the year 2019, with the data provided I was able to perform operations like cleaning, manipulation, analysis and visualization all in R stuido and came up with a recommended solution to the issue they were faced with. This is a perfect example of using data to drive decision-making."
   ]
  },
  {
   "cell_type": "markdown",
   "id": "45ab218a",
   "metadata": {
    "papermill": {
     "duration": 0.00783,
     "end_time": "2022-05-10T10:10:09.232248",
     "exception": false,
     "start_time": "2022-05-10T10:10:09.224418",
     "status": "completed"
    },
    "tags": []
   },
   "source": [
    "## Loading Packages"
   ]
  },
  {
   "cell_type": "code",
   "execution_count": 1,
   "id": "7d46d93c",
   "metadata": {
    "_execution_state": "idle",
    "_uuid": "051d70d956493feee0c6d64651c6a088724dca2a",
    "execution": {
     "iopub.execute_input": "2022-05-10T10:10:09.255609Z",
     "iopub.status.busy": "2022-05-10T10:10:09.252633Z",
     "iopub.status.idle": "2022-05-10T10:10:10.629171Z",
     "shell.execute_reply": "2022-05-10T10:10:10.627302Z"
    },
    "papermill": {
     "duration": 1.391125,
     "end_time": "2022-05-10T10:10:10.631496",
     "exception": false,
     "start_time": "2022-05-10T10:10:09.240371",
     "status": "completed"
    },
    "tags": []
   },
   "outputs": [
    {
     "name": "stderr",
     "output_type": "stream",
     "text": [
      "── \u001b[1mAttaching packages\u001b[22m ─────────────────────────────────────── tidyverse 1.3.1 ──\n",
      "\n",
      "\u001b[32m✔\u001b[39m \u001b[34mggplot2\u001b[39m 3.3.5     \u001b[32m✔\u001b[39m \u001b[34mpurrr  \u001b[39m 0.3.4\n",
      "\u001b[32m✔\u001b[39m \u001b[34mtibble \u001b[39m 3.1.6     \u001b[32m✔\u001b[39m \u001b[34mdplyr  \u001b[39m 1.0.8\n",
      "\u001b[32m✔\u001b[39m \u001b[34mtidyr  \u001b[39m 1.2.0     \u001b[32m✔\u001b[39m \u001b[34mstringr\u001b[39m 1.4.0\n",
      "\u001b[32m✔\u001b[39m \u001b[34mreadr  \u001b[39m 2.1.2     \u001b[32m✔\u001b[39m \u001b[34mforcats\u001b[39m 0.5.1\n",
      "\n",
      "── \u001b[1mConflicts\u001b[22m ────────────────────────────────────────── tidyverse_conflicts() ──\n",
      "\u001b[31m✖\u001b[39m \u001b[34mdplyr\u001b[39m::\u001b[32mfilter()\u001b[39m masks \u001b[34mstats\u001b[39m::filter()\n",
      "\u001b[31m✖\u001b[39m \u001b[34mdplyr\u001b[39m::\u001b[32mlag()\u001b[39m    masks \u001b[34mstats\u001b[39m::lag()\n",
      "\n",
      "\n",
      "Attaching package: ‘lubridate’\n",
      "\n",
      "\n",
      "The following objects are masked from ‘package:base’:\n",
      "\n",
      "    date, intersect, setdiff, union\n",
      "\n",
      "\n"
     ]
    }
   ],
   "source": [
    "library('tidyverse')\n",
    "library('lubridate')\n",
    "library('ggplot2')"
   ]
  },
  {
   "cell_type": "markdown",
   "id": "be470d9a",
   "metadata": {
    "papermill": {
     "duration": 0.008308,
     "end_time": "2022-05-10T10:10:10.648220",
     "exception": false,
     "start_time": "2022-05-10T10:10:10.639912",
     "status": "completed"
    },
    "tags": []
   },
   "source": [
    "## Loading Datasets"
   ]
  },
  {
   "cell_type": "code",
   "execution_count": 2,
   "id": "98241d67",
   "metadata": {
    "execution": {
     "iopub.execute_input": "2022-05-10T10:10:10.700281Z",
     "iopub.status.busy": "2022-05-10T10:10:10.666782Z",
     "iopub.status.idle": "2022-05-10T10:11:12.193701Z",
     "shell.execute_reply": "2022-05-10T10:11:12.191343Z"
    },
    "papermill": {
     "duration": 61.540559,
     "end_time": "2022-05-10T10:11:12.197312",
     "exception": false,
     "start_time": "2022-05-10T10:10:10.656753",
     "status": "completed"
    },
    "tags": []
   },
   "outputs": [],
   "source": [
    "q1_2019 <- read.csv('../input/google-data-analytics-capstone-1-data-set/Divvy_Trips_2019_Q1.csv')\n",
    "q2_2019 <- read.csv('../input/google-data-analytics-capstone-1-data-set/Divvy_Trips_2019_Q2.csv')\n",
    "q3_2019 <- read.csv('../input/google-data-analytics-capstone-1-data-set/Divvy_Trips_2019_Q3.csv')\n",
    "q4_2019 <- read.csv('../input/google-data-analytics-capstone-1-data-set/Divvy_Trips_2019_Q4.csv')"
   ]
  },
  {
   "cell_type": "code",
   "execution_count": 3,
   "id": "fcb20d99",
   "metadata": {
    "execution": {
     "iopub.execute_input": "2022-05-10T10:11:12.220866Z",
     "iopub.status.busy": "2022-05-10T10:11:12.219228Z",
     "iopub.status.idle": "2022-05-10T10:11:12.256872Z",
     "shell.execute_reply": "2022-05-10T10:11:12.254966Z"
    },
    "papermill": {
     "duration": 0.050692,
     "end_time": "2022-05-10T10:11:12.258994",
     "exception": false,
     "start_time": "2022-05-10T10:11:12.208302",
     "status": "completed"
    },
    "tags": []
   },
   "outputs": [
    {
     "data": {
      "text/html": [
       "<style>\n",
       ".list-inline {list-style: none; margin:0; padding: 0}\n",
       ".list-inline>li {display: inline-block}\n",
       ".list-inline>li:not(:last-child)::after {content: \"\\00b7\"; padding: 0 .5ex}\n",
       "</style>\n",
       "<ol class=list-inline><li>'trip_id'</li><li>'start_time'</li><li>'end_time'</li><li>'bikeid'</li><li>'tripduration'</li><li>'from_station_id'</li><li>'from_station_name'</li><li>'to_station_id'</li><li>'to_station_name'</li><li>'usertype'</li><li>'gender'</li><li>'birthyear'</li></ol>\n"
      ],
      "text/latex": [
       "\\begin{enumerate*}\n",
       "\\item 'trip\\_id'\n",
       "\\item 'start\\_time'\n",
       "\\item 'end\\_time'\n",
       "\\item 'bikeid'\n",
       "\\item 'tripduration'\n",
       "\\item 'from\\_station\\_id'\n",
       "\\item 'from\\_station\\_name'\n",
       "\\item 'to\\_station\\_id'\n",
       "\\item 'to\\_station\\_name'\n",
       "\\item 'usertype'\n",
       "\\item 'gender'\n",
       "\\item 'birthyear'\n",
       "\\end{enumerate*}\n"
      ],
      "text/markdown": [
       "1. 'trip_id'\n",
       "2. 'start_time'\n",
       "3. 'end_time'\n",
       "4. 'bikeid'\n",
       "5. 'tripduration'\n",
       "6. 'from_station_id'\n",
       "7. 'from_station_name'\n",
       "8. 'to_station_id'\n",
       "9. 'to_station_name'\n",
       "10. 'usertype'\n",
       "11. 'gender'\n",
       "12. 'birthyear'\n",
       "\n",
       "\n"
      ],
      "text/plain": [
       " [1] \"trip_id\"           \"start_time\"        \"end_time\"         \n",
       " [4] \"bikeid\"            \"tripduration\"      \"from_station_id\"  \n",
       " [7] \"from_station_name\" \"to_station_id\"     \"to_station_name\"  \n",
       "[10] \"usertype\"          \"gender\"            \"birthyear\"        "
      ]
     },
     "metadata": {},
     "output_type": "display_data"
    },
    {
     "data": {
      "text/html": [
       "<style>\n",
       ".list-inline {list-style: none; margin:0; padding: 0}\n",
       ".list-inline>li {display: inline-block}\n",
       ".list-inline>li:not(:last-child)::after {content: \"\\00b7\"; padding: 0 .5ex}\n",
       "</style>\n",
       "<ol class=list-inline><li>'X01...Rental.Details.Rental.ID'</li><li>'X01...Rental.Details.Local.Start.Time'</li><li>'X01...Rental.Details.Local.End.Time'</li><li>'X01...Rental.Details.Bike.ID'</li><li>'X01...Rental.Details.Duration.In.Seconds.Uncapped'</li><li>'X03...Rental.Start.Station.ID'</li><li>'X03...Rental.Start.Station.Name'</li><li>'X02...Rental.End.Station.ID'</li><li>'X02...Rental.End.Station.Name'</li><li>'User.Type'</li><li>'Member.Gender'</li><li>'X05...Member.Details.Member.Birthday.Year'</li></ol>\n"
      ],
      "text/latex": [
       "\\begin{enumerate*}\n",
       "\\item 'X01...Rental.Details.Rental.ID'\n",
       "\\item 'X01...Rental.Details.Local.Start.Time'\n",
       "\\item 'X01...Rental.Details.Local.End.Time'\n",
       "\\item 'X01...Rental.Details.Bike.ID'\n",
       "\\item 'X01...Rental.Details.Duration.In.Seconds.Uncapped'\n",
       "\\item 'X03...Rental.Start.Station.ID'\n",
       "\\item 'X03...Rental.Start.Station.Name'\n",
       "\\item 'X02...Rental.End.Station.ID'\n",
       "\\item 'X02...Rental.End.Station.Name'\n",
       "\\item 'User.Type'\n",
       "\\item 'Member.Gender'\n",
       "\\item 'X05...Member.Details.Member.Birthday.Year'\n",
       "\\end{enumerate*}\n"
      ],
      "text/markdown": [
       "1. 'X01...Rental.Details.Rental.ID'\n",
       "2. 'X01...Rental.Details.Local.Start.Time'\n",
       "3. 'X01...Rental.Details.Local.End.Time'\n",
       "4. 'X01...Rental.Details.Bike.ID'\n",
       "5. 'X01...Rental.Details.Duration.In.Seconds.Uncapped'\n",
       "6. 'X03...Rental.Start.Station.ID'\n",
       "7. 'X03...Rental.Start.Station.Name'\n",
       "8. 'X02...Rental.End.Station.ID'\n",
       "9. 'X02...Rental.End.Station.Name'\n",
       "10. 'User.Type'\n",
       "11. 'Member.Gender'\n",
       "12. 'X05...Member.Details.Member.Birthday.Year'\n",
       "\n",
       "\n"
      ],
      "text/plain": [
       " [1] \"X01...Rental.Details.Rental.ID\"                   \n",
       " [2] \"X01...Rental.Details.Local.Start.Time\"            \n",
       " [3] \"X01...Rental.Details.Local.End.Time\"              \n",
       " [4] \"X01...Rental.Details.Bike.ID\"                     \n",
       " [5] \"X01...Rental.Details.Duration.In.Seconds.Uncapped\"\n",
       " [6] \"X03...Rental.Start.Station.ID\"                    \n",
       " [7] \"X03...Rental.Start.Station.Name\"                  \n",
       " [8] \"X02...Rental.End.Station.ID\"                      \n",
       " [9] \"X02...Rental.End.Station.Name\"                    \n",
       "[10] \"User.Type\"                                        \n",
       "[11] \"Member.Gender\"                                    \n",
       "[12] \"X05...Member.Details.Member.Birthday.Year\"        "
      ]
     },
     "metadata": {},
     "output_type": "display_data"
    },
    {
     "data": {
      "text/html": [
       "<style>\n",
       ".list-inline {list-style: none; margin:0; padding: 0}\n",
       ".list-inline>li {display: inline-block}\n",
       ".list-inline>li:not(:last-child)::after {content: \"\\00b7\"; padding: 0 .5ex}\n",
       "</style>\n",
       "<ol class=list-inline><li>'trip_id'</li><li>'start_time'</li><li>'end_time'</li><li>'bikeid'</li><li>'tripduration'</li><li>'from_station_id'</li><li>'from_station_name'</li><li>'to_station_id'</li><li>'to_station_name'</li><li>'usertype'</li><li>'gender'</li><li>'birthyear'</li></ol>\n"
      ],
      "text/latex": [
       "\\begin{enumerate*}\n",
       "\\item 'trip\\_id'\n",
       "\\item 'start\\_time'\n",
       "\\item 'end\\_time'\n",
       "\\item 'bikeid'\n",
       "\\item 'tripduration'\n",
       "\\item 'from\\_station\\_id'\n",
       "\\item 'from\\_station\\_name'\n",
       "\\item 'to\\_station\\_id'\n",
       "\\item 'to\\_station\\_name'\n",
       "\\item 'usertype'\n",
       "\\item 'gender'\n",
       "\\item 'birthyear'\n",
       "\\end{enumerate*}\n"
      ],
      "text/markdown": [
       "1. 'trip_id'\n",
       "2. 'start_time'\n",
       "3. 'end_time'\n",
       "4. 'bikeid'\n",
       "5. 'tripduration'\n",
       "6. 'from_station_id'\n",
       "7. 'from_station_name'\n",
       "8. 'to_station_id'\n",
       "9. 'to_station_name'\n",
       "10. 'usertype'\n",
       "11. 'gender'\n",
       "12. 'birthyear'\n",
       "\n",
       "\n"
      ],
      "text/plain": [
       " [1] \"trip_id\"           \"start_time\"        \"end_time\"         \n",
       " [4] \"bikeid\"            \"tripduration\"      \"from_station_id\"  \n",
       " [7] \"from_station_name\" \"to_station_id\"     \"to_station_name\"  \n",
       "[10] \"usertype\"          \"gender\"            \"birthyear\"        "
      ]
     },
     "metadata": {},
     "output_type": "display_data"
    },
    {
     "data": {
      "text/html": [
       "<style>\n",
       ".list-inline {list-style: none; margin:0; padding: 0}\n",
       ".list-inline>li {display: inline-block}\n",
       ".list-inline>li:not(:last-child)::after {content: \"\\00b7\"; padding: 0 .5ex}\n",
       "</style>\n",
       "<ol class=list-inline><li>'trip_id'</li><li>'start_time'</li><li>'end_time'</li><li>'bikeid'</li><li>'tripduration'</li><li>'from_station_id'</li><li>'from_station_name'</li><li>'to_station_id'</li><li>'to_station_name'</li><li>'usertype'</li><li>'gender'</li><li>'birthyear'</li></ol>\n"
      ],
      "text/latex": [
       "\\begin{enumerate*}\n",
       "\\item 'trip\\_id'\n",
       "\\item 'start\\_time'\n",
       "\\item 'end\\_time'\n",
       "\\item 'bikeid'\n",
       "\\item 'tripduration'\n",
       "\\item 'from\\_station\\_id'\n",
       "\\item 'from\\_station\\_name'\n",
       "\\item 'to\\_station\\_id'\n",
       "\\item 'to\\_station\\_name'\n",
       "\\item 'usertype'\n",
       "\\item 'gender'\n",
       "\\item 'birthyear'\n",
       "\\end{enumerate*}\n"
      ],
      "text/markdown": [
       "1. 'trip_id'\n",
       "2. 'start_time'\n",
       "3. 'end_time'\n",
       "4. 'bikeid'\n",
       "5. 'tripduration'\n",
       "6. 'from_station_id'\n",
       "7. 'from_station_name'\n",
       "8. 'to_station_id'\n",
       "9. 'to_station_name'\n",
       "10. 'usertype'\n",
       "11. 'gender'\n",
       "12. 'birthyear'\n",
       "\n",
       "\n"
      ],
      "text/plain": [
       " [1] \"trip_id\"           \"start_time\"        \"end_time\"         \n",
       " [4] \"bikeid\"            \"tripduration\"      \"from_station_id\"  \n",
       " [7] \"from_station_name\" \"to_station_id\"     \"to_station_name\"  \n",
       "[10] \"usertype\"          \"gender\"            \"birthyear\"        "
      ]
     },
     "metadata": {},
     "output_type": "display_data"
    }
   ],
   "source": [
    "colnames(q1_2019)\n",
    "colnames(q2_2019)\n",
    "colnames(q3_2019)\n",
    "colnames(q4_2019)"
   ]
  },
  {
   "cell_type": "markdown",
   "id": "3274c929",
   "metadata": {
    "papermill": {
     "duration": 0.009224,
     "end_time": "2022-05-10T10:11:12.277751",
     "exception": false,
     "start_time": "2022-05-10T10:11:12.268527",
     "status": "completed"
    },
    "tags": []
   },
   "source": [
    "## Data Cleaning"
   ]
  },
  {
   "cell_type": "code",
   "execution_count": 4,
   "id": "02750360",
   "metadata": {
    "execution": {
     "iopub.execute_input": "2022-05-10T10:11:12.299877Z",
     "iopub.status.busy": "2022-05-10T10:11:12.297984Z",
     "iopub.status.idle": "2022-05-10T10:11:12.391772Z",
     "shell.execute_reply": "2022-05-10T10:11:12.389491Z"
    },
    "papermill": {
     "duration": 0.107609,
     "end_time": "2022-05-10T10:11:12.394584",
     "exception": false,
     "start_time": "2022-05-10T10:11:12.286975",
     "status": "completed"
    },
    "tags": []
   },
   "outputs": [],
   "source": [
    "q1_2019 <- rename(q1_2019, ride_id=trip_id,\n",
    "                  rideable_type=bikeid,\n",
    "                  started_at=start_time,\n",
    "                  ended_at=end_time,\n",
    "                  start_station_name=from_station_name,\n",
    "                  end_station_name=to_station_name,\n",
    "                  member_casual=usertype\n",
    "                  ) \n",
    "q1_2019 <- rename(q1_2019, start_station_id=from_station_id,\n",
    "                  end_station_id=to_station_id)\n",
    "q2_2019 <- rename(q2_2019, ride_id=X01...Rental.Details.Rental.ID,\n",
    "                  rideable_type=X01...Rental.Details.Bike.ID,\n",
    "                  started_at=X01...Rental.Details.Local.Start.Time,\n",
    "                  ended_at=X01...Rental.Details.Local.End.Time,\n",
    "                  start_station_name=X03...Rental.Start.Station.Name,\n",
    "                  end_station_name=X02...Rental.End.Station.Name,\n",
    "                  member_casual=User.Type,\n",
    "                  tripduration=X01...Rental.Details.Duration.In.Seconds.Uncapped,\n",
    "                  start_station_id=X03...Rental.Start.Station.ID,\n",
    "                  end_station_id=X02...Rental.End.Station.ID,\n",
    "                  gender=Member.Gender,\n",
    "                  birthyear=X05...Member.Details.Member.Birthday.Year)\n",
    "q3_2019 <- rename(q3_2019, ride_id=trip_id,\n",
    "                  rideable_type=bikeid,\n",
    "                  started_at=start_time,\n",
    "                  ended_at=end_time,\n",
    "                  start_station_name=from_station_name,\n",
    "                  end_station_name=to_station_name,\n",
    "                  member_casual=usertype,\n",
    "                  start_station_id=from_station_id,\n",
    "                  end_station_id=to_station_id)\n",
    "q4_2019 <- rename(q4_2019, ride_id=trip_id,\n",
    "                  rideable_type=bikeid,\n",
    "                  started_at=start_time,\n",
    "                  ended_at=end_time,\n",
    "                  start_station_name=from_station_name,\n",
    "                  end_station_name=to_station_name,\n",
    "                  member_casual=usertype,\n",
    "                  start_station_id=from_station_id,\n",
    "                  end_station_id=to_station_id)"
   ]
  },
  {
   "cell_type": "code",
   "execution_count": 5,
   "id": "5fba91b5",
   "metadata": {
    "execution": {
     "iopub.execute_input": "2022-05-10T10:11:12.417540Z",
     "iopub.status.busy": "2022-05-10T10:11:12.415668Z",
     "iopub.status.idle": "2022-05-10T10:11:12.454578Z",
     "shell.execute_reply": "2022-05-10T10:11:12.452479Z"
    },
    "papermill": {
     "duration": 0.05309,
     "end_time": "2022-05-10T10:11:12.457100",
     "exception": false,
     "start_time": "2022-05-10T10:11:12.404010",
     "status": "completed"
    },
    "tags": []
   },
   "outputs": [],
   "source": [
    "q1_2019 <- mutate(q1_2019, ride_id=as.character(ride_id))\n",
    "q2_2019 <- mutate(q2_2019, ride_id=as.character(ride_id))\n",
    "q3_2019 <- mutate(q3_2019, ride_id=as.character(ride_id))\n",
    "q4_2019 <- mutate(q4_2019, ride_id=as.character(ride_id))"
   ]
  },
  {
   "cell_type": "code",
   "execution_count": 6,
   "id": "cf07d2a2",
   "metadata": {
    "execution": {
     "iopub.execute_input": "2022-05-10T10:11:12.479885Z",
     "iopub.status.busy": "2022-05-10T10:11:12.478073Z",
     "iopub.status.idle": "2022-05-10T10:11:12.509402Z",
     "shell.execute_reply": "2022-05-10T10:11:12.507569Z"
    },
    "papermill": {
     "duration": 0.044687,
     "end_time": "2022-05-10T10:11:12.511684",
     "exception": false,
     "start_time": "2022-05-10T10:11:12.466997",
     "status": "completed"
    },
    "tags": []
   },
   "outputs": [
    {
     "name": "stdout",
     "output_type": "stream",
     "text": [
      "[1] \"Number of rows and columns for q1_2019:  365069 rows and 12  columns\"\n",
      "[1] \"Number of rows and columns for q1_2019:  1108163 rows and 12  columns\"\n",
      "[1] \"Number of rows and columns for q1_2019:  1640718 rows and 12  columns\"\n",
      "[1] \"Number of rows and columns for q1_2019:  704054 rows and 12  columns\"\n"
     ]
    }
   ],
   "source": [
    "print(paste('Number of rows and columns for q1_2019: ',\n",
    "            nrow(q1_2019), 'rows and', ncol(q1_2019), ' columns'))\n",
    "print(paste('Number of rows and columns for q1_2019: ',\n",
    "            nrow(q2_2019), 'rows and', ncol(q2_2019), ' columns'))\n",
    "print(paste('Number of rows and columns for q1_2019: ',\n",
    "            nrow(q3_2019), 'rows and', ncol(q3_2019), ' columns'))\n",
    "print(paste('Number of rows and columns for q1_2019: ',\n",
    "            nrow(q4_2019), 'rows and', ncol(q4_2019), ' columns'))"
   ]
  },
  {
   "cell_type": "markdown",
   "id": "9ecea73c",
   "metadata": {
    "papermill": {
     "duration": 0.009328,
     "end_time": "2022-05-10T10:11:12.530590",
     "exception": false,
     "start_time": "2022-05-10T10:11:12.521262",
     "status": "completed"
    },
    "tags": []
   },
   "source": [
    "### Binding datasets"
   ]
  },
  {
   "cell_type": "code",
   "execution_count": 7,
   "id": "54fd2a5f",
   "metadata": {
    "execution": {
     "iopub.execute_input": "2022-05-10T10:11:12.553225Z",
     "iopub.status.busy": "2022-05-10T10:11:12.551493Z",
     "iopub.status.idle": "2022-05-10T10:11:19.414505Z",
     "shell.execute_reply": "2022-05-10T10:11:19.412173Z"
    },
    "papermill": {
     "duration": 6.877838,
     "end_time": "2022-05-10T10:11:19.417980",
     "exception": false,
     "start_time": "2022-05-10T10:11:12.540142",
     "status": "completed"
    },
    "tags": []
   },
   "outputs": [],
   "source": [
    "bike_trips_2019 <- bind_rows(q2_2019,q3_2019,q4_2019,q1_2019)"
   ]
  },
  {
   "cell_type": "code",
   "execution_count": 8,
   "id": "7da3fe38",
   "metadata": {
    "execution": {
     "iopub.execute_input": "2022-05-10T10:11:19.440798Z",
     "iopub.status.busy": "2022-05-10T10:11:19.439101Z",
     "iopub.status.idle": "2022-05-10T10:11:19.471300Z",
     "shell.execute_reply": "2022-05-10T10:11:19.469403Z"
    },
    "papermill": {
     "duration": 0.046388,
     "end_time": "2022-05-10T10:11:19.473987",
     "exception": false,
     "start_time": "2022-05-10T10:11:19.427599",
     "status": "completed"
    },
    "tags": []
   },
   "outputs": [
    {
     "data": {
      "text/html": [
       "<style>\n",
       ".list-inline {list-style: none; margin:0; padding: 0}\n",
       ".list-inline>li {display: inline-block}\n",
       ".list-inline>li:not(:last-child)::after {content: \"\\00b7\"; padding: 0 .5ex}\n",
       "</style>\n",
       "<ol class=list-inline><li>'ride_id'</li><li>'started_at'</li><li>'ended_at'</li><li>'rideable_type'</li><li>'tripduration'</li><li>'start_station_id'</li><li>'start_station_name'</li><li>'end_station_id'</li><li>'end_station_name'</li><li>'member_casual'</li><li>'gender'</li><li>'birthyear'</li></ol>\n"
      ],
      "text/latex": [
       "\\begin{enumerate*}\n",
       "\\item 'ride\\_id'\n",
       "\\item 'started\\_at'\n",
       "\\item 'ended\\_at'\n",
       "\\item 'rideable\\_type'\n",
       "\\item 'tripduration'\n",
       "\\item 'start\\_station\\_id'\n",
       "\\item 'start\\_station\\_name'\n",
       "\\item 'end\\_station\\_id'\n",
       "\\item 'end\\_station\\_name'\n",
       "\\item 'member\\_casual'\n",
       "\\item 'gender'\n",
       "\\item 'birthyear'\n",
       "\\end{enumerate*}\n"
      ],
      "text/markdown": [
       "1. 'ride_id'\n",
       "2. 'started_at'\n",
       "3. 'ended_at'\n",
       "4. 'rideable_type'\n",
       "5. 'tripduration'\n",
       "6. 'start_station_id'\n",
       "7. 'start_station_name'\n",
       "8. 'end_station_id'\n",
       "9. 'end_station_name'\n",
       "10. 'member_casual'\n",
       "11. 'gender'\n",
       "12. 'birthyear'\n",
       "\n",
       "\n"
      ],
      "text/plain": [
       " [1] \"ride_id\"            \"started_at\"         \"ended_at\"          \n",
       " [4] \"rideable_type\"      \"tripduration\"       \"start_station_id\"  \n",
       " [7] \"start_station_name\" \"end_station_id\"     \"end_station_name\"  \n",
       "[10] \"member_casual\"      \"gender\"             \"birthyear\"         "
      ]
     },
     "metadata": {},
     "output_type": "display_data"
    },
    {
     "data": {
      "text/html": [
       "3818004"
      ],
      "text/latex": [
       "3818004"
      ],
      "text/markdown": [
       "3818004"
      ],
      "text/plain": [
       "[1] 3818004"
      ]
     },
     "metadata": {},
     "output_type": "display_data"
    },
    {
     "data": {
      "text/html": [
       "<style>\n",
       ".list-inline {list-style: none; margin:0; padding: 0}\n",
       ".list-inline>li {display: inline-block}\n",
       ".list-inline>li:not(:last-child)::after {content: \"\\00b7\"; padding: 0 .5ex}\n",
       "</style>\n",
       "<ol class=list-inline><li>3818004</li><li>12</li></ol>\n"
      ],
      "text/latex": [
       "\\begin{enumerate*}\n",
       "\\item 3818004\n",
       "\\item 12\n",
       "\\end{enumerate*}\n"
      ],
      "text/markdown": [
       "1. 3818004\n",
       "2. 12\n",
       "\n",
       "\n"
      ],
      "text/plain": [
       "[1] 3818004      12"
      ]
     },
     "metadata": {},
     "output_type": "display_data"
    }
   ],
   "source": [
    "colnames(bike_trips_2019)\n",
    "nrow(bike_trips_2019)\n",
    "dim(bike_trips_2019)"
   ]
  },
  {
   "cell_type": "code",
   "execution_count": 9,
   "id": "22d50a8d",
   "metadata": {
    "execution": {
     "iopub.execute_input": "2022-05-10T10:11:19.498027Z",
     "iopub.status.busy": "2022-05-10T10:11:19.496109Z",
     "iopub.status.idle": "2022-05-10T10:11:19.533248Z",
     "shell.execute_reply": "2022-05-10T10:11:19.530795Z"
    },
    "papermill": {
     "duration": 0.051715,
     "end_time": "2022-05-10T10:11:19.535965",
     "exception": false,
     "start_time": "2022-05-10T10:11:19.484250",
     "status": "completed"
    },
    "tags": []
   },
   "outputs": [
    {
     "data": {
      "text/html": [
       "<table class=\"dataframe\">\n",
       "<caption>A data.frame: 5 × 12</caption>\n",
       "<thead>\n",
       "\t<tr><th></th><th scope=col>ride_id</th><th scope=col>started_at</th><th scope=col>ended_at</th><th scope=col>rideable_type</th><th scope=col>tripduration</th><th scope=col>start_station_id</th><th scope=col>start_station_name</th><th scope=col>end_station_id</th><th scope=col>end_station_name</th><th scope=col>member_casual</th><th scope=col>gender</th><th scope=col>birthyear</th></tr>\n",
       "\t<tr><th></th><th scope=col>&lt;chr&gt;</th><th scope=col>&lt;chr&gt;</th><th scope=col>&lt;chr&gt;</th><th scope=col>&lt;int&gt;</th><th scope=col>&lt;chr&gt;</th><th scope=col>&lt;int&gt;</th><th scope=col>&lt;chr&gt;</th><th scope=col>&lt;int&gt;</th><th scope=col>&lt;chr&gt;</th><th scope=col>&lt;chr&gt;</th><th scope=col>&lt;chr&gt;</th><th scope=col>&lt;int&gt;</th></tr>\n",
       "</thead>\n",
       "<tbody>\n",
       "\t<tr><th scope=row>1</th><td>22178529</td><td>2019-04-01 00:02:22</td><td>2019-04-01 00:09:48</td><td>6251</td><td><span style=white-space:pre-wrap>446.0  </span></td><td> 81</td><td><span style=white-space:pre-wrap>Daley Center Plaza       </span></td><td> 56</td><td>Desplaines St &amp; Kinzie St</td><td>Subscriber</td><td><span style=white-space:pre-wrap>Male  </span></td><td>1975</td></tr>\n",
       "\t<tr><th scope=row>2</th><td>22178530</td><td>2019-04-01 00:03:02</td><td>2019-04-01 00:20:30</td><td>6226</td><td>1,048.0</td><td>317</td><td><span style=white-space:pre-wrap>Wood St &amp; Taylor St      </span></td><td> 59</td><td>Wabash Ave &amp; Roosevelt Rd</td><td>Subscriber</td><td>Female</td><td>1984</td></tr>\n",
       "\t<tr><th scope=row>3</th><td>22178531</td><td>2019-04-01 00:11:07</td><td>2019-04-01 00:15:19</td><td>5649</td><td><span style=white-space:pre-wrap>252.0  </span></td><td>283</td><td>LaSalle St &amp; Jackson Blvd</td><td>174</td><td><span style=white-space:pre-wrap>Canal St &amp; Madison St    </span></td><td>Subscriber</td><td><span style=white-space:pre-wrap>Male  </span></td><td>1990</td></tr>\n",
       "\t<tr><th scope=row>4</th><td>22178532</td><td>2019-04-01 00:13:01</td><td>2019-04-01 00:18:58</td><td>4151</td><td><span style=white-space:pre-wrap>357.0  </span></td><td> 26</td><td>McClurg Ct &amp; Illinois St </td><td>133</td><td>Kingsbury St &amp; Kinzie St </td><td>Subscriber</td><td><span style=white-space:pre-wrap>Male  </span></td><td>1993</td></tr>\n",
       "\t<tr><th scope=row>5</th><td>22178533</td><td>2019-04-01 00:19:26</td><td>2019-04-01 00:36:13</td><td>3270</td><td>1,007.0</td><td>202</td><td><span style=white-space:pre-wrap>Halsted St &amp; 18th St     </span></td><td>129</td><td>Blue Island Ave &amp; 18th St</td><td>Subscriber</td><td><span style=white-space:pre-wrap>Male  </span></td><td>1992</td></tr>\n",
       "</tbody>\n",
       "</table>\n"
      ],
      "text/latex": [
       "A data.frame: 5 × 12\n",
       "\\begin{tabular}{r|llllllllllll}\n",
       "  & ride\\_id & started\\_at & ended\\_at & rideable\\_type & tripduration & start\\_station\\_id & start\\_station\\_name & end\\_station\\_id & end\\_station\\_name & member\\_casual & gender & birthyear\\\\\n",
       "  & <chr> & <chr> & <chr> & <int> & <chr> & <int> & <chr> & <int> & <chr> & <chr> & <chr> & <int>\\\\\n",
       "\\hline\n",
       "\t1 & 22178529 & 2019-04-01 00:02:22 & 2019-04-01 00:09:48 & 6251 & 446.0   &  81 & Daley Center Plaza        &  56 & Desplaines St \\& Kinzie St & Subscriber & Male   & 1975\\\\\n",
       "\t2 & 22178530 & 2019-04-01 00:03:02 & 2019-04-01 00:20:30 & 6226 & 1,048.0 & 317 & Wood St \\& Taylor St       &  59 & Wabash Ave \\& Roosevelt Rd & Subscriber & Female & 1984\\\\\n",
       "\t3 & 22178531 & 2019-04-01 00:11:07 & 2019-04-01 00:15:19 & 5649 & 252.0   & 283 & LaSalle St \\& Jackson Blvd & 174 & Canal St \\& Madison St     & Subscriber & Male   & 1990\\\\\n",
       "\t4 & 22178532 & 2019-04-01 00:13:01 & 2019-04-01 00:18:58 & 4151 & 357.0   &  26 & McClurg Ct \\& Illinois St  & 133 & Kingsbury St \\& Kinzie St  & Subscriber & Male   & 1993\\\\\n",
       "\t5 & 22178533 & 2019-04-01 00:19:26 & 2019-04-01 00:36:13 & 3270 & 1,007.0 & 202 & Halsted St \\& 18th St      & 129 & Blue Island Ave \\& 18th St & Subscriber & Male   & 1992\\\\\n",
       "\\end{tabular}\n"
      ],
      "text/markdown": [
       "\n",
       "A data.frame: 5 × 12\n",
       "\n",
       "| <!--/--> | ride_id &lt;chr&gt; | started_at &lt;chr&gt; | ended_at &lt;chr&gt; | rideable_type &lt;int&gt; | tripduration &lt;chr&gt; | start_station_id &lt;int&gt; | start_station_name &lt;chr&gt; | end_station_id &lt;int&gt; | end_station_name &lt;chr&gt; | member_casual &lt;chr&gt; | gender &lt;chr&gt; | birthyear &lt;int&gt; |\n",
       "|---|---|---|---|---|---|---|---|---|---|---|---|---|\n",
       "| 1 | 22178529 | 2019-04-01 00:02:22 | 2019-04-01 00:09:48 | 6251 | 446.0   |  81 | Daley Center Plaza        |  56 | Desplaines St &amp; Kinzie St | Subscriber | Male   | 1975 |\n",
       "| 2 | 22178530 | 2019-04-01 00:03:02 | 2019-04-01 00:20:30 | 6226 | 1,048.0 | 317 | Wood St &amp; Taylor St       |  59 | Wabash Ave &amp; Roosevelt Rd | Subscriber | Female | 1984 |\n",
       "| 3 | 22178531 | 2019-04-01 00:11:07 | 2019-04-01 00:15:19 | 5649 | 252.0   | 283 | LaSalle St &amp; Jackson Blvd | 174 | Canal St &amp; Madison St     | Subscriber | Male   | 1990 |\n",
       "| 4 | 22178532 | 2019-04-01 00:13:01 | 2019-04-01 00:18:58 | 4151 | 357.0   |  26 | McClurg Ct &amp; Illinois St  | 133 | Kingsbury St &amp; Kinzie St  | Subscriber | Male   | 1993 |\n",
       "| 5 | 22178533 | 2019-04-01 00:19:26 | 2019-04-01 00:36:13 | 3270 | 1,007.0 | 202 | Halsted St &amp; 18th St      | 129 | Blue Island Ave &amp; 18th St | Subscriber | Male   | 1992 |\n",
       "\n"
      ],
      "text/plain": [
       "  ride_id  started_at          ended_at            rideable_type tripduration\n",
       "1 22178529 2019-04-01 00:02:22 2019-04-01 00:09:48 6251          446.0       \n",
       "2 22178530 2019-04-01 00:03:02 2019-04-01 00:20:30 6226          1,048.0     \n",
       "3 22178531 2019-04-01 00:11:07 2019-04-01 00:15:19 5649          252.0       \n",
       "4 22178532 2019-04-01 00:13:01 2019-04-01 00:18:58 4151          357.0       \n",
       "5 22178533 2019-04-01 00:19:26 2019-04-01 00:36:13 3270          1,007.0     \n",
       "  start_station_id start_station_name        end_station_id\n",
       "1  81              Daley Center Plaza         56           \n",
       "2 317              Wood St & Taylor St        59           \n",
       "3 283              LaSalle St & Jackson Blvd 174           \n",
       "4  26              McClurg Ct & Illinois St  133           \n",
       "5 202              Halsted St & 18th St      129           \n",
       "  end_station_name          member_casual gender birthyear\n",
       "1 Desplaines St & Kinzie St Subscriber    Male   1975     \n",
       "2 Wabash Ave & Roosevelt Rd Subscriber    Female 1984     \n",
       "3 Canal St & Madison St     Subscriber    Male   1990     \n",
       "4 Kingsbury St & Kinzie St  Subscriber    Male   1993     \n",
       "5 Blue Island Ave & 18th St Subscriber    Male   1992     "
      ]
     },
     "metadata": {},
     "output_type": "display_data"
    }
   ],
   "source": [
    "head(bike_trips_2019, 5)"
   ]
  },
  {
   "cell_type": "markdown",
   "id": "653aef46",
   "metadata": {
    "papermill": {
     "duration": 0.010142,
     "end_time": "2022-05-10T10:11:19.556529",
     "exception": false,
     "start_time": "2022-05-10T10:11:19.546387",
     "status": "completed"
    },
    "tags": []
   },
   "source": [
    "## Exploratory Data Analysis"
   ]
  },
  {
   "cell_type": "code",
   "execution_count": 10,
   "id": "474d126e",
   "metadata": {
    "execution": {
     "iopub.execute_input": "2022-05-10T10:11:19.580928Z",
     "iopub.status.busy": "2022-05-10T10:11:19.578938Z",
     "iopub.status.idle": "2022-05-10T10:11:21.892759Z",
     "shell.execute_reply": "2022-05-10T10:11:21.890573Z"
    },
    "papermill": {
     "duration": 2.329802,
     "end_time": "2022-05-10T10:11:21.896472",
     "exception": false,
     "start_time": "2022-05-10T10:11:19.566670",
     "status": "completed"
    },
    "tags": []
   },
   "outputs": [],
   "source": [
    "bike_trips_2019 <- bike_trips_2019 %>% \n",
    "    mutate(member_casual = recode(member_casual\n",
    "                           ,\"Subscriber\" = \"member\"\n",
    "                           ,\"Customer\" = \"casual\"))"
   ]
  },
  {
   "cell_type": "code",
   "execution_count": 11,
   "id": "4b411017",
   "metadata": {
    "execution": {
     "iopub.execute_input": "2022-05-10T10:11:21.921389Z",
     "iopub.status.busy": "2022-05-10T10:11:21.919578Z",
     "iopub.status.idle": "2022-05-10T10:11:35.110666Z",
     "shell.execute_reply": "2022-05-10T10:11:35.108505Z"
    },
    "papermill": {
     "duration": 13.207377,
     "end_time": "2022-05-10T10:11:35.114220",
     "exception": false,
     "start_time": "2022-05-10T10:11:21.906843",
     "status": "completed"
    },
    "tags": []
   },
   "outputs": [],
   "source": [
    "bike_trips_2019$date <- as.Date(bike_trips_2019$started_at)\n",
    "bike_trips_2019$month <- format(as.Date(bike_trips_2019$date), '%b') \n",
    "bike_trips_2019$year <- format(as.Date(bike_trips_2019$date), '%y')\n",
    "bike_trips_2019$day_of_the_week <- format(as.Date(bike_trips_2019$date), '%A')"
   ]
  },
  {
   "cell_type": "code",
   "execution_count": 12,
   "id": "2c571654",
   "metadata": {
    "execution": {
     "iopub.execute_input": "2022-05-10T10:11:35.138942Z",
     "iopub.status.busy": "2022-05-10T10:11:35.137196Z",
     "iopub.status.idle": "2022-05-10T10:11:35.171131Z",
     "shell.execute_reply": "2022-05-10T10:11:35.168622Z"
    },
    "papermill": {
     "duration": 0.049561,
     "end_time": "2022-05-10T10:11:35.174103",
     "exception": false,
     "start_time": "2022-05-10T10:11:35.124542",
     "status": "completed"
    },
    "tags": []
   },
   "outputs": [
    {
     "data": {
      "text/html": [
       "<table class=\"dataframe\">\n",
       "<caption>A data.frame: 5 × 16</caption>\n",
       "<thead>\n",
       "\t<tr><th></th><th scope=col>ride_id</th><th scope=col>started_at</th><th scope=col>ended_at</th><th scope=col>rideable_type</th><th scope=col>tripduration</th><th scope=col>start_station_id</th><th scope=col>start_station_name</th><th scope=col>end_station_id</th><th scope=col>end_station_name</th><th scope=col>member_casual</th><th scope=col>gender</th><th scope=col>birthyear</th><th scope=col>date</th><th scope=col>month</th><th scope=col>year</th><th scope=col>day_of_the_week</th></tr>\n",
       "\t<tr><th></th><th scope=col>&lt;chr&gt;</th><th scope=col>&lt;chr&gt;</th><th scope=col>&lt;chr&gt;</th><th scope=col>&lt;int&gt;</th><th scope=col>&lt;chr&gt;</th><th scope=col>&lt;int&gt;</th><th scope=col>&lt;chr&gt;</th><th scope=col>&lt;int&gt;</th><th scope=col>&lt;chr&gt;</th><th scope=col>&lt;chr&gt;</th><th scope=col>&lt;chr&gt;</th><th scope=col>&lt;int&gt;</th><th scope=col>&lt;date&gt;</th><th scope=col>&lt;chr&gt;</th><th scope=col>&lt;chr&gt;</th><th scope=col>&lt;chr&gt;</th></tr>\n",
       "</thead>\n",
       "<tbody>\n",
       "\t<tr><th scope=row>1</th><td>22178529</td><td>2019-04-01 00:02:22</td><td>2019-04-01 00:09:48</td><td>6251</td><td><span style=white-space:pre-wrap>446.0  </span></td><td> 81</td><td><span style=white-space:pre-wrap>Daley Center Plaza       </span></td><td> 56</td><td>Desplaines St &amp; Kinzie St</td><td>member</td><td><span style=white-space:pre-wrap>Male  </span></td><td>1975</td><td>2019-04-01</td><td>Apr</td><td>19</td><td>Monday</td></tr>\n",
       "\t<tr><th scope=row>2</th><td>22178530</td><td>2019-04-01 00:03:02</td><td>2019-04-01 00:20:30</td><td>6226</td><td>1,048.0</td><td>317</td><td><span style=white-space:pre-wrap>Wood St &amp; Taylor St      </span></td><td> 59</td><td>Wabash Ave &amp; Roosevelt Rd</td><td>member</td><td>Female</td><td>1984</td><td>2019-04-01</td><td>Apr</td><td>19</td><td>Monday</td></tr>\n",
       "\t<tr><th scope=row>3</th><td>22178531</td><td>2019-04-01 00:11:07</td><td>2019-04-01 00:15:19</td><td>5649</td><td><span style=white-space:pre-wrap>252.0  </span></td><td>283</td><td>LaSalle St &amp; Jackson Blvd</td><td>174</td><td><span style=white-space:pre-wrap>Canal St &amp; Madison St    </span></td><td>member</td><td><span style=white-space:pre-wrap>Male  </span></td><td>1990</td><td>2019-04-01</td><td>Apr</td><td>19</td><td>Monday</td></tr>\n",
       "\t<tr><th scope=row>4</th><td>22178532</td><td>2019-04-01 00:13:01</td><td>2019-04-01 00:18:58</td><td>4151</td><td><span style=white-space:pre-wrap>357.0  </span></td><td> 26</td><td>McClurg Ct &amp; Illinois St </td><td>133</td><td>Kingsbury St &amp; Kinzie St </td><td>member</td><td><span style=white-space:pre-wrap>Male  </span></td><td>1993</td><td>2019-04-01</td><td>Apr</td><td>19</td><td>Monday</td></tr>\n",
       "\t<tr><th scope=row>5</th><td>22178533</td><td>2019-04-01 00:19:26</td><td>2019-04-01 00:36:13</td><td>3270</td><td>1,007.0</td><td>202</td><td><span style=white-space:pre-wrap>Halsted St &amp; 18th St     </span></td><td>129</td><td>Blue Island Ave &amp; 18th St</td><td>member</td><td><span style=white-space:pre-wrap>Male  </span></td><td>1992</td><td>2019-04-01</td><td>Apr</td><td>19</td><td>Monday</td></tr>\n",
       "</tbody>\n",
       "</table>\n"
      ],
      "text/latex": [
       "A data.frame: 5 × 16\n",
       "\\begin{tabular}{r|llllllllllllllll}\n",
       "  & ride\\_id & started\\_at & ended\\_at & rideable\\_type & tripduration & start\\_station\\_id & start\\_station\\_name & end\\_station\\_id & end\\_station\\_name & member\\_casual & gender & birthyear & date & month & year & day\\_of\\_the\\_week\\\\\n",
       "  & <chr> & <chr> & <chr> & <int> & <chr> & <int> & <chr> & <int> & <chr> & <chr> & <chr> & <int> & <date> & <chr> & <chr> & <chr>\\\\\n",
       "\\hline\n",
       "\t1 & 22178529 & 2019-04-01 00:02:22 & 2019-04-01 00:09:48 & 6251 & 446.0   &  81 & Daley Center Plaza        &  56 & Desplaines St \\& Kinzie St & member & Male   & 1975 & 2019-04-01 & Apr & 19 & Monday\\\\\n",
       "\t2 & 22178530 & 2019-04-01 00:03:02 & 2019-04-01 00:20:30 & 6226 & 1,048.0 & 317 & Wood St \\& Taylor St       &  59 & Wabash Ave \\& Roosevelt Rd & member & Female & 1984 & 2019-04-01 & Apr & 19 & Monday\\\\\n",
       "\t3 & 22178531 & 2019-04-01 00:11:07 & 2019-04-01 00:15:19 & 5649 & 252.0   & 283 & LaSalle St \\& Jackson Blvd & 174 & Canal St \\& Madison St     & member & Male   & 1990 & 2019-04-01 & Apr & 19 & Monday\\\\\n",
       "\t4 & 22178532 & 2019-04-01 00:13:01 & 2019-04-01 00:18:58 & 4151 & 357.0   &  26 & McClurg Ct \\& Illinois St  & 133 & Kingsbury St \\& Kinzie St  & member & Male   & 1993 & 2019-04-01 & Apr & 19 & Monday\\\\\n",
       "\t5 & 22178533 & 2019-04-01 00:19:26 & 2019-04-01 00:36:13 & 3270 & 1,007.0 & 202 & Halsted St \\& 18th St      & 129 & Blue Island Ave \\& 18th St & member & Male   & 1992 & 2019-04-01 & Apr & 19 & Monday\\\\\n",
       "\\end{tabular}\n"
      ],
      "text/markdown": [
       "\n",
       "A data.frame: 5 × 16\n",
       "\n",
       "| <!--/--> | ride_id &lt;chr&gt; | started_at &lt;chr&gt; | ended_at &lt;chr&gt; | rideable_type &lt;int&gt; | tripduration &lt;chr&gt; | start_station_id &lt;int&gt; | start_station_name &lt;chr&gt; | end_station_id &lt;int&gt; | end_station_name &lt;chr&gt; | member_casual &lt;chr&gt; | gender &lt;chr&gt; | birthyear &lt;int&gt; | date &lt;date&gt; | month &lt;chr&gt; | year &lt;chr&gt; | day_of_the_week &lt;chr&gt; |\n",
       "|---|---|---|---|---|---|---|---|---|---|---|---|---|---|---|---|---|\n",
       "| 1 | 22178529 | 2019-04-01 00:02:22 | 2019-04-01 00:09:48 | 6251 | 446.0   |  81 | Daley Center Plaza        |  56 | Desplaines St &amp; Kinzie St | member | Male   | 1975 | 2019-04-01 | Apr | 19 | Monday |\n",
       "| 2 | 22178530 | 2019-04-01 00:03:02 | 2019-04-01 00:20:30 | 6226 | 1,048.0 | 317 | Wood St &amp; Taylor St       |  59 | Wabash Ave &amp; Roosevelt Rd | member | Female | 1984 | 2019-04-01 | Apr | 19 | Monday |\n",
       "| 3 | 22178531 | 2019-04-01 00:11:07 | 2019-04-01 00:15:19 | 5649 | 252.0   | 283 | LaSalle St &amp; Jackson Blvd | 174 | Canal St &amp; Madison St     | member | Male   | 1990 | 2019-04-01 | Apr | 19 | Monday |\n",
       "| 4 | 22178532 | 2019-04-01 00:13:01 | 2019-04-01 00:18:58 | 4151 | 357.0   |  26 | McClurg Ct &amp; Illinois St  | 133 | Kingsbury St &amp; Kinzie St  | member | Male   | 1993 | 2019-04-01 | Apr | 19 | Monday |\n",
       "| 5 | 22178533 | 2019-04-01 00:19:26 | 2019-04-01 00:36:13 | 3270 | 1,007.0 | 202 | Halsted St &amp; 18th St      | 129 | Blue Island Ave &amp; 18th St | member | Male   | 1992 | 2019-04-01 | Apr | 19 | Monday |\n",
       "\n"
      ],
      "text/plain": [
       "  ride_id  started_at          ended_at            rideable_type tripduration\n",
       "1 22178529 2019-04-01 00:02:22 2019-04-01 00:09:48 6251          446.0       \n",
       "2 22178530 2019-04-01 00:03:02 2019-04-01 00:20:30 6226          1,048.0     \n",
       "3 22178531 2019-04-01 00:11:07 2019-04-01 00:15:19 5649          252.0       \n",
       "4 22178532 2019-04-01 00:13:01 2019-04-01 00:18:58 4151          357.0       \n",
       "5 22178533 2019-04-01 00:19:26 2019-04-01 00:36:13 3270          1,007.0     \n",
       "  start_station_id start_station_name        end_station_id\n",
       "1  81              Daley Center Plaza         56           \n",
       "2 317              Wood St & Taylor St        59           \n",
       "3 283              LaSalle St & Jackson Blvd 174           \n",
       "4  26              McClurg Ct & Illinois St  133           \n",
       "5 202              Halsted St & 18th St      129           \n",
       "  end_station_name          member_casual gender birthyear date       month\n",
       "1 Desplaines St & Kinzie St member        Male   1975      2019-04-01 Apr  \n",
       "2 Wabash Ave & Roosevelt Rd member        Female 1984      2019-04-01 Apr  \n",
       "3 Canal St & Madison St     member        Male   1990      2019-04-01 Apr  \n",
       "4 Kingsbury St & Kinzie St  member        Male   1993      2019-04-01 Apr  \n",
       "5 Blue Island Ave & 18th St member        Male   1992      2019-04-01 Apr  \n",
       "  year day_of_the_week\n",
       "1 19   Monday         \n",
       "2 19   Monday         \n",
       "3 19   Monday         \n",
       "4 19   Monday         \n",
       "5 19   Monday         "
      ]
     },
     "metadata": {},
     "output_type": "display_data"
    }
   ],
   "source": [
    "head(bike_trips_2019, 5)"
   ]
  },
  {
   "cell_type": "code",
   "execution_count": 13,
   "id": "64781f1e",
   "metadata": {
    "execution": {
     "iopub.execute_input": "2022-05-10T10:11:35.199398Z",
     "iopub.status.busy": "2022-05-10T10:11:35.197652Z",
     "iopub.status.idle": "2022-05-10T10:12:05.117644Z",
     "shell.execute_reply": "2022-05-10T10:12:05.115554Z"
    },
    "papermill": {
     "duration": 29.935243,
     "end_time": "2022-05-10T10:12:05.120074",
     "exception": false,
     "start_time": "2022-05-10T10:11:35.184831",
     "status": "completed"
    },
    "tags": []
   },
   "outputs": [
    {
     "name": "stderr",
     "output_type": "stream",
     "text": [
      "Warning message in eval(expr, envir, enclos):\n",
      "“NAs introduced by coercion”\n"
     ]
    },
    {
     "name": "stdout",
     "output_type": "stream",
     "text": [
      "'data.frame':\t3818004 obs. of  16 variables:\n",
      " $ ride_id           : chr  \"22178529\" \"22178530\" \"22178531\" \"22178532\" ...\n",
      " $ started_at        : chr  \"2019-04-01 00:02:22\" \"2019-04-01 00:03:02\" \"2019-04-01 00:11:07\" \"2019-04-01 00:13:01\" ...\n",
      " $ ended_at          : chr  \"2019-04-01 00:09:48\" \"2019-04-01 00:20:30\" \"2019-04-01 00:15:19\" \"2019-04-01 00:18:58\" ...\n",
      " $ rideable_type     : int  6251 6226 5649 4151 3270 3123 6418 4513 3280 5534 ...\n",
      " $ tripduration      : num  446 NA 252 357 NA 257 548 383 NA NA ...\n",
      " $ start_station_id  : int  81 317 283 26 202 420 503 260 211 211 ...\n",
      " $ start_station_name: chr  \"Daley Center Plaza\" \"Wood St & Taylor St\" \"LaSalle St & Jackson Blvd\" \"McClurg Ct & Illinois St\" ...\n",
      " $ end_station_id    : int  56 59 174 133 129 426 500 499 211 211 ...\n",
      " $ end_station_name  : chr  \"Desplaines St & Kinzie St\" \"Wabash Ave & Roosevelt Rd\" \"Canal St & Madison St\" \"Kingsbury St & Kinzie St\" ...\n",
      " $ member_casual     : chr  \"member\" \"member\" \"member\" \"member\" ...\n",
      " $ gender            : chr  \"Male\" \"Female\" \"Male\" \"Male\" ...\n",
      " $ birthyear         : int  1975 1984 1990 1993 1992 1999 1969 1991 NA NA ...\n",
      " $ date              : Date, format: \"2019-04-01\" \"2019-04-01\" ...\n",
      " $ month             : chr  \"Apr\" \"Apr\" \"Apr\" \"Apr\" ...\n",
      " $ year              : chr  \"19\" \"19\" \"19\" \"19\" ...\n",
      " $ day_of_the_week   : chr  \"Monday\" \"Monday\" \"Monday\" \"Monday\" ...\n"
     ]
    }
   ],
   "source": [
    "bike_trips_2019$tripduration <- as.numeric(as.character(bike_trips_2019$tripduration))\n",
    "str(bike_trips_2019)\n",
    "bike_trips_2019_v2 <- bike_trips_2019[!(bike_trips_2019$start_station_name \n",
    "                                        == 'HQ QR' | bike_trips_2019$tripduration == 'NA'),]\n",
    "bike_trips_2019_v2 <- bike_trips_2019_v2 %>%\n",
    "  filter(tripduration != 'NA')\n",
    "bike_trips_2019_v2$tripduration <- as.numeric(as.character(bike_trips_2019_v2$tripduration))"
   ]
  },
  {
   "cell_type": "code",
   "execution_count": 14,
   "id": "97801deb",
   "metadata": {
    "execution": {
     "iopub.execute_input": "2022-05-10T10:12:05.144831Z",
     "iopub.status.busy": "2022-05-10T10:12:05.143215Z",
     "iopub.status.idle": "2022-05-10T10:12:08.201647Z",
     "shell.execute_reply": "2022-05-10T10:12:08.199824Z"
    },
    "papermill": {
     "duration": 3.072973,
     "end_time": "2022-05-10T10:12:08.204013",
     "exception": false,
     "start_time": "2022-05-10T10:12:05.131040",
     "status": "completed"
    },
    "tags": []
   },
   "outputs": [
    {
     "data": {
      "text/html": [
       "<table class=\"dataframe\">\n",
       "<caption>A data.frame: 2 × 2</caption>\n",
       "<thead>\n",
       "\t<tr><th scope=col>bike_trips_2019_v2$member_casual</th><th scope=col>bike_trips_2019_v2$tripduration</th></tr>\n",
       "\t<tr><th scope=col>&lt;chr&gt;</th><th scope=col>&lt;dbl&gt;</th></tr>\n",
       "</thead>\n",
       "<tbody>\n",
       "\t<tr><td>casual</td><td>643.7083</td></tr>\n",
       "\t<tr><td>member</td><td>501.1748</td></tr>\n",
       "</tbody>\n",
       "</table>\n"
      ],
      "text/latex": [
       "A data.frame: 2 × 2\n",
       "\\begin{tabular}{ll}\n",
       " bike\\_trips\\_2019\\_v2\\$member\\_casual & bike\\_trips\\_2019\\_v2\\$tripduration\\\\\n",
       " <chr> & <dbl>\\\\\n",
       "\\hline\n",
       "\t casual & 643.7083\\\\\n",
       "\t member & 501.1748\\\\\n",
       "\\end{tabular}\n"
      ],
      "text/markdown": [
       "\n",
       "A data.frame: 2 × 2\n",
       "\n",
       "| bike_trips_2019_v2$member_casual &lt;chr&gt; | bike_trips_2019_v2$tripduration &lt;dbl&gt; |\n",
       "|---|---|\n",
       "| casual | 643.7083 |\n",
       "| member | 501.1748 |\n",
       "\n"
      ],
      "text/plain": [
       "  bike_trips_2019_v2$member_casual bike_trips_2019_v2$tripduration\n",
       "1 casual                           643.7083                       \n",
       "2 member                           501.1748                       "
      ]
     },
     "metadata": {},
     "output_type": "display_data"
    }
   ],
   "source": [
    "aggregate(bike_trips_2019_v2$tripduration~\n",
    "          bike_trips_2019_v2$member_casual, FUN = mean)"
   ]
  },
  {
   "cell_type": "code",
   "execution_count": 15,
   "id": "66459525",
   "metadata": {
    "execution": {
     "iopub.execute_input": "2022-05-10T10:12:08.229738Z",
     "iopub.status.busy": "2022-05-10T10:12:08.228080Z",
     "iopub.status.idle": "2022-05-10T10:12:12.970590Z",
     "shell.execute_reply": "2022-05-10T10:12:12.968723Z"
    },
    "papermill": {
     "duration": 4.757968,
     "end_time": "2022-05-10T10:12:12.973020",
     "exception": false,
     "start_time": "2022-05-10T10:12:08.215052",
     "status": "completed"
    },
    "tags": []
   },
   "outputs": [
    {
     "data": {
      "text/html": [
       "<table class=\"dataframe\">\n",
       "<caption>A data.frame: 2 × 2</caption>\n",
       "<thead>\n",
       "\t<tr><th scope=col>bike_trips_2019_v2$member_casual</th><th scope=col>bike_trips_2019_v2$tripduration</th></tr>\n",
       "\t<tr><th scope=col>&lt;chr&gt;</th><th scope=col>&lt;dbl&gt;</th></tr>\n",
       "</thead>\n",
       "<tbody>\n",
       "\t<tr><td>casual</td><td>661</td></tr>\n",
       "\t<tr><td>member</td><td>473</td></tr>\n",
       "</tbody>\n",
       "</table>\n"
      ],
      "text/latex": [
       "A data.frame: 2 × 2\n",
       "\\begin{tabular}{ll}\n",
       " bike\\_trips\\_2019\\_v2\\$member\\_casual & bike\\_trips\\_2019\\_v2\\$tripduration\\\\\n",
       " <chr> & <dbl>\\\\\n",
       "\\hline\n",
       "\t casual & 661\\\\\n",
       "\t member & 473\\\\\n",
       "\\end{tabular}\n"
      ],
      "text/markdown": [
       "\n",
       "A data.frame: 2 × 2\n",
       "\n",
       "| bike_trips_2019_v2$member_casual &lt;chr&gt; | bike_trips_2019_v2$tripduration &lt;dbl&gt; |\n",
       "|---|---|\n",
       "| casual | 661 |\n",
       "| member | 473 |\n",
       "\n"
      ],
      "text/plain": [
       "  bike_trips_2019_v2$member_casual bike_trips_2019_v2$tripduration\n",
       "1 casual                           661                            \n",
       "2 member                           473                            "
      ]
     },
     "metadata": {},
     "output_type": "display_data"
    }
   ],
   "source": [
    "aggregate(bike_trips_2019_v2$tripduration~\n",
    "          bike_trips_2019_v2$member_casual, FUN = median)"
   ]
  },
  {
   "cell_type": "code",
   "execution_count": 16,
   "id": "566114e5",
   "metadata": {
    "execution": {
     "iopub.execute_input": "2022-05-10T10:12:12.998188Z",
     "iopub.status.busy": "2022-05-10T10:12:12.996695Z",
     "iopub.status.idle": "2022-05-10T10:12:14.866809Z",
     "shell.execute_reply": "2022-05-10T10:12:14.865007Z"
    },
    "papermill": {
     "duration": 1.884959,
     "end_time": "2022-05-10T10:12:14.869122",
     "exception": false,
     "start_time": "2022-05-10T10:12:12.984163",
     "status": "completed"
    },
    "tags": []
   },
   "outputs": [
    {
     "data": {
      "text/html": [
       "<table class=\"dataframe\">\n",
       "<caption>A data.frame: 2 × 2</caption>\n",
       "<thead>\n",
       "\t<tr><th scope=col>bike_trips_2019_v2$member_casual</th><th scope=col>bike_trips_2019_v2$tripduration</th></tr>\n",
       "\t<tr><th scope=col>&lt;chr&gt;</th><th scope=col>&lt;dbl&gt;</th></tr>\n",
       "</thead>\n",
       "<tbody>\n",
       "\t<tr><td>casual</td><td>999</td></tr>\n",
       "\t<tr><td>member</td><td>999</td></tr>\n",
       "</tbody>\n",
       "</table>\n"
      ],
      "text/latex": [
       "A data.frame: 2 × 2\n",
       "\\begin{tabular}{ll}\n",
       " bike\\_trips\\_2019\\_v2\\$member\\_casual & bike\\_trips\\_2019\\_v2\\$tripduration\\\\\n",
       " <chr> & <dbl>\\\\\n",
       "\\hline\n",
       "\t casual & 999\\\\\n",
       "\t member & 999\\\\\n",
       "\\end{tabular}\n"
      ],
      "text/markdown": [
       "\n",
       "A data.frame: 2 × 2\n",
       "\n",
       "| bike_trips_2019_v2$member_casual &lt;chr&gt; | bike_trips_2019_v2$tripduration &lt;dbl&gt; |\n",
       "|---|---|\n",
       "| casual | 999 |\n",
       "| member | 999 |\n",
       "\n"
      ],
      "text/plain": [
       "  bike_trips_2019_v2$member_casual bike_trips_2019_v2$tripduration\n",
       "1 casual                           999                            \n",
       "2 member                           999                            "
      ]
     },
     "metadata": {},
     "output_type": "display_data"
    }
   ],
   "source": [
    "aggregate(bike_trips_2019_v2$tripduration~\n",
    "          bike_trips_2019_v2$member_casual, FUN = max)"
   ]
  },
  {
   "cell_type": "code",
   "execution_count": 17,
   "id": "5e7ae7b3",
   "metadata": {
    "execution": {
     "iopub.execute_input": "2022-05-10T10:12:14.895433Z",
     "iopub.status.busy": "2022-05-10T10:12:14.893763Z",
     "iopub.status.idle": "2022-05-10T10:12:16.774199Z",
     "shell.execute_reply": "2022-05-10T10:12:16.772377Z"
    },
    "papermill": {
     "duration": 1.896065,
     "end_time": "2022-05-10T10:12:16.776598",
     "exception": false,
     "start_time": "2022-05-10T10:12:14.880533",
     "status": "completed"
    },
    "tags": []
   },
   "outputs": [
    {
     "data": {
      "text/html": [
       "<table class=\"dataframe\">\n",
       "<caption>A data.frame: 2 × 2</caption>\n",
       "<thead>\n",
       "\t<tr><th scope=col>bike_trips_2019_v2$member_casual</th><th scope=col>bike_trips_2019_v2$tripduration</th></tr>\n",
       "\t<tr><th scope=col>&lt;chr&gt;</th><th scope=col>&lt;dbl&gt;</th></tr>\n",
       "</thead>\n",
       "<tbody>\n",
       "\t<tr><td>casual</td><td>61</td></tr>\n",
       "\t<tr><td>member</td><td>61</td></tr>\n",
       "</tbody>\n",
       "</table>\n"
      ],
      "text/latex": [
       "A data.frame: 2 × 2\n",
       "\\begin{tabular}{ll}\n",
       " bike\\_trips\\_2019\\_v2\\$member\\_casual & bike\\_trips\\_2019\\_v2\\$tripduration\\\\\n",
       " <chr> & <dbl>\\\\\n",
       "\\hline\n",
       "\t casual & 61\\\\\n",
       "\t member & 61\\\\\n",
       "\\end{tabular}\n"
      ],
      "text/markdown": [
       "\n",
       "A data.frame: 2 × 2\n",
       "\n",
       "| bike_trips_2019_v2$member_casual &lt;chr&gt; | bike_trips_2019_v2$tripduration &lt;dbl&gt; |\n",
       "|---|---|\n",
       "| casual | 61 |\n",
       "| member | 61 |\n",
       "\n"
      ],
      "text/plain": [
       "  bike_trips_2019_v2$member_casual bike_trips_2019_v2$tripduration\n",
       "1 casual                           61                             \n",
       "2 member                           61                             "
      ]
     },
     "metadata": {},
     "output_type": "display_data"
    }
   ],
   "source": [
    "aggregate(bike_trips_2019_v2$tripduration~\n",
    "          bike_trips_2019_v2$member_casual, FUN = min)"
   ]
  },
  {
   "cell_type": "code",
   "execution_count": 18,
   "id": "b1ac278b",
   "metadata": {
    "execution": {
     "iopub.execute_input": "2022-05-10T10:12:16.802902Z",
     "iopub.status.busy": "2022-05-10T10:12:16.801276Z",
     "iopub.status.idle": "2022-05-10T10:12:18.836274Z",
     "shell.execute_reply": "2022-05-10T10:12:18.834484Z"
    },
    "papermill": {
     "duration": 2.050461,
     "end_time": "2022-05-10T10:12:18.838683",
     "exception": false,
     "start_time": "2022-05-10T10:12:16.788222",
     "status": "completed"
    },
    "tags": []
   },
   "outputs": [
    {
     "data": {
      "text/html": [
       "<table class=\"dataframe\">\n",
       "<caption>A data.frame: 5 × 2</caption>\n",
       "<thead>\n",
       "\t<tr><th></th><th scope=col>bike_trips_2019_v2$start_station_name</th><th scope=col>bike_trips_2019_v2$tripduration</th></tr>\n",
       "\t<tr><th></th><th scope=col>&lt;chr&gt;</th><th scope=col>&lt;dbl&gt;</th></tr>\n",
       "</thead>\n",
       "<tbody>\n",
       "\t<tr><th scope=row>1</th><td>2112 W Peterson Ave       </td><td>657.2063</td></tr>\n",
       "\t<tr><th scope=row>2</th><td>63rd St Beach             </td><td>703.0000</td></tr>\n",
       "\t<tr><th scope=row>3</th><td>900 W Harrison St         </td><td>447.8306</td></tr>\n",
       "\t<tr><th scope=row>4</th><td>Aberdeen St &amp; Jackson Blvd</td><td>452.4166</td></tr>\n",
       "\t<tr><th scope=row>5</th><td><span style=white-space:pre-wrap>Aberdeen St &amp; Monroe St   </span></td><td>511.2610</td></tr>\n",
       "</tbody>\n",
       "</table>\n"
      ],
      "text/latex": [
       "A data.frame: 5 × 2\n",
       "\\begin{tabular}{r|ll}\n",
       "  & bike\\_trips\\_2019\\_v2\\$start\\_station\\_name & bike\\_trips\\_2019\\_v2\\$tripduration\\\\\n",
       "  & <chr> & <dbl>\\\\\n",
       "\\hline\n",
       "\t1 & 2112 W Peterson Ave        & 657.2063\\\\\n",
       "\t2 & 63rd St Beach              & 703.0000\\\\\n",
       "\t3 & 900 W Harrison St          & 447.8306\\\\\n",
       "\t4 & Aberdeen St \\& Jackson Blvd & 452.4166\\\\\n",
       "\t5 & Aberdeen St \\& Monroe St    & 511.2610\\\\\n",
       "\\end{tabular}\n"
      ],
      "text/markdown": [
       "\n",
       "A data.frame: 5 × 2\n",
       "\n",
       "| <!--/--> | bike_trips_2019_v2$start_station_name &lt;chr&gt; | bike_trips_2019_v2$tripduration &lt;dbl&gt; |\n",
       "|---|---|---|\n",
       "| 1 | 2112 W Peterson Ave        | 657.2063 |\n",
       "| 2 | 63rd St Beach              | 703.0000 |\n",
       "| 3 | 900 W Harrison St          | 447.8306 |\n",
       "| 4 | Aberdeen St &amp; Jackson Blvd | 452.4166 |\n",
       "| 5 | Aberdeen St &amp; Monroe St    | 511.2610 |\n",
       "\n"
      ],
      "text/plain": [
       "  bike_trips_2019_v2$start_station_name bike_trips_2019_v2$tripduration\n",
       "1 2112 W Peterson Ave                   657.2063                       \n",
       "2 63rd St Beach                         703.0000                       \n",
       "3 900 W Harrison St                     447.8306                       \n",
       "4 Aberdeen St & Jackson Blvd            452.4166                       \n",
       "5 Aberdeen St & Monroe St               511.2610                       "
      ]
     },
     "metadata": {},
     "output_type": "display_data"
    }
   ],
   "source": [
    "head(aggregate(bike_trips_2019_v2$tripduration~\n",
    "               bike_trips_2019_v2$start_station_name, FUN = mean), 5)"
   ]
  },
  {
   "cell_type": "code",
   "execution_count": 19,
   "id": "e1d87dcb",
   "metadata": {
    "execution": {
     "iopub.execute_input": "2022-05-10T10:12:18.867839Z",
     "iopub.status.busy": "2022-05-10T10:12:18.865675Z",
     "iopub.status.idle": "2022-05-10T10:12:22.127018Z",
     "shell.execute_reply": "2022-05-10T10:12:22.125251Z"
    },
    "papermill": {
     "duration": 3.278265,
     "end_time": "2022-05-10T10:12:22.129242",
     "exception": false,
     "start_time": "2022-05-10T10:12:18.850977",
     "status": "completed"
    },
    "tags": []
   },
   "outputs": [
    {
     "data": {
      "text/html": [
       "<table class=\"dataframe\">\n",
       "<caption>A data.frame: 5 × 3</caption>\n",
       "<thead>\n",
       "\t<tr><th></th><th scope=col>bike_trips_2019_v2$end_station_name</th><th scope=col>bike_trips_2019_v2$day_of_the_week</th><th scope=col>bike_trips_2019_v2$tripduration</th></tr>\n",
       "\t<tr><th></th><th scope=col>&lt;chr&gt;</th><th scope=col>&lt;chr&gt;</th><th scope=col>&lt;dbl&gt;</th></tr>\n",
       "</thead>\n",
       "<tbody>\n",
       "\t<tr><th scope=row>1</th><td>2112 W Peterson Ave       </td><td>Friday</td><td>675.1667</td></tr>\n",
       "\t<tr><th scope=row>2</th><td>63rd St Beach             </td><td>Friday</td><td>626.0000</td></tr>\n",
       "\t<tr><th scope=row>3</th><td>900 W Harrison St         </td><td>Friday</td><td>455.2788</td></tr>\n",
       "\t<tr><th scope=row>4</th><td>Aberdeen St &amp; Jackson Blvd</td><td>Friday</td><td>479.5745</td></tr>\n",
       "\t<tr><th scope=row>5</th><td><span style=white-space:pre-wrap>Aberdeen St &amp; Monroe St   </span></td><td>Friday</td><td>507.3476</td></tr>\n",
       "</tbody>\n",
       "</table>\n"
      ],
      "text/latex": [
       "A data.frame: 5 × 3\n",
       "\\begin{tabular}{r|lll}\n",
       "  & bike\\_trips\\_2019\\_v2\\$end\\_station\\_name & bike\\_trips\\_2019\\_v2\\$day\\_of\\_the\\_week & bike\\_trips\\_2019\\_v2\\$tripduration\\\\\n",
       "  & <chr> & <chr> & <dbl>\\\\\n",
       "\\hline\n",
       "\t1 & 2112 W Peterson Ave        & Friday & 675.1667\\\\\n",
       "\t2 & 63rd St Beach              & Friday & 626.0000\\\\\n",
       "\t3 & 900 W Harrison St          & Friday & 455.2788\\\\\n",
       "\t4 & Aberdeen St \\& Jackson Blvd & Friday & 479.5745\\\\\n",
       "\t5 & Aberdeen St \\& Monroe St    & Friday & 507.3476\\\\\n",
       "\\end{tabular}\n"
      ],
      "text/markdown": [
       "\n",
       "A data.frame: 5 × 3\n",
       "\n",
       "| <!--/--> | bike_trips_2019_v2$end_station_name &lt;chr&gt; | bike_trips_2019_v2$day_of_the_week &lt;chr&gt; | bike_trips_2019_v2$tripduration &lt;dbl&gt; |\n",
       "|---|---|---|---|\n",
       "| 1 | 2112 W Peterson Ave        | Friday | 675.1667 |\n",
       "| 2 | 63rd St Beach              | Friday | 626.0000 |\n",
       "| 3 | 900 W Harrison St          | Friday | 455.2788 |\n",
       "| 4 | Aberdeen St &amp; Jackson Blvd | Friday | 479.5745 |\n",
       "| 5 | Aberdeen St &amp; Monroe St    | Friday | 507.3476 |\n",
       "\n"
      ],
      "text/plain": [
       "  bike_trips_2019_v2$end_station_name bike_trips_2019_v2$day_of_the_week\n",
       "1 2112 W Peterson Ave                 Friday                            \n",
       "2 63rd St Beach                       Friday                            \n",
       "3 900 W Harrison St                   Friday                            \n",
       "4 Aberdeen St & Jackson Blvd          Friday                            \n",
       "5 Aberdeen St & Monroe St             Friday                            \n",
       "  bike_trips_2019_v2$tripduration\n",
       "1 675.1667                       \n",
       "2 626.0000                       \n",
       "3 455.2788                       \n",
       "4 479.5745                       \n",
       "5 507.3476                       "
      ]
     },
     "metadata": {},
     "output_type": "display_data"
    }
   ],
   "source": [
    "head(aggregate(bike_trips_2019_v2$tripduration~\n",
    "               bike_trips_2019_v2$end_station_name + \n",
    "               bike_trips_2019_v2$day_of_the_week, FUN = mean), 5)"
   ]
  },
  {
   "cell_type": "code",
   "execution_count": 20,
   "id": "3f01ac45",
   "metadata": {
    "execution": {
     "iopub.execute_input": "2022-05-10T10:12:22.156186Z",
     "iopub.status.busy": "2022-05-10T10:12:22.154642Z",
     "iopub.status.idle": "2022-05-10T10:12:25.880324Z",
     "shell.execute_reply": "2022-05-10T10:12:25.878160Z"
    },
    "papermill": {
     "duration": 3.741631,
     "end_time": "2022-05-10T10:12:25.882886",
     "exception": false,
     "start_time": "2022-05-10T10:12:22.141255",
     "status": "completed"
    },
    "tags": []
   },
   "outputs": [],
   "source": [
    "bike_trips_2019_v4 <- aggregate(\n",
    "    bike_trips_2019_v2$tripduration~bike_trips_2019_v2$start_station_name \n",
    "    + bike_trips_2019_v2$day_of_the_week + bike_trips_2019_v2$member_casual, FUN = mean)"
   ]
  },
  {
   "cell_type": "code",
   "execution_count": 21,
   "id": "de199a44",
   "metadata": {
    "execution": {
     "iopub.execute_input": "2022-05-10T10:12:25.911250Z",
     "iopub.status.busy": "2022-05-10T10:12:25.909643Z",
     "iopub.status.idle": "2022-05-10T10:12:28.210428Z",
     "shell.execute_reply": "2022-05-10T10:12:28.208599Z"
    },
    "papermill": {
     "duration": 2.316613,
     "end_time": "2022-05-10T10:12:28.212729",
     "exception": false,
     "start_time": "2022-05-10T10:12:25.896116",
     "status": "completed"
    },
    "tags": []
   },
   "outputs": [
    {
     "data": {
      "text/html": [
       "<table class=\"dataframe\">\n",
       "<caption>A data.frame: 5 × 3</caption>\n",
       "<thead>\n",
       "\t<tr><th></th><th scope=col>bike_trips_2019_v2$member_casual</th><th scope=col>bike_trips_2019_v2$day_of_the_week</th><th scope=col>bike_trips_2019_v2$tripduration</th></tr>\n",
       "\t<tr><th></th><th scope=col>&lt;chr&gt;</th><th scope=col>&lt;chr&gt;</th><th scope=col>&lt;dbl&gt;</th></tr>\n",
       "</thead>\n",
       "<tbody>\n",
       "\t<tr><th scope=row>1</th><td>casual</td><td>Friday  </td><td>636.8237</td></tr>\n",
       "\t<tr><th scope=row>2</th><td>member</td><td>Friday  </td><td>496.7268</td></tr>\n",
       "\t<tr><th scope=row>3</th><td>casual</td><td>Monday  </td><td>635.8054</td></tr>\n",
       "\t<tr><th scope=row>4</th><td>member</td><td>Monday  </td><td>500.5908</td></tr>\n",
       "\t<tr><th scope=row>5</th><td>casual</td><td>Saturday</td><td>659.8230</td></tr>\n",
       "</tbody>\n",
       "</table>\n"
      ],
      "text/latex": [
       "A data.frame: 5 × 3\n",
       "\\begin{tabular}{r|lll}\n",
       "  & bike\\_trips\\_2019\\_v2\\$member\\_casual & bike\\_trips\\_2019\\_v2\\$day\\_of\\_the\\_week & bike\\_trips\\_2019\\_v2\\$tripduration\\\\\n",
       "  & <chr> & <chr> & <dbl>\\\\\n",
       "\\hline\n",
       "\t1 & casual & Friday   & 636.8237\\\\\n",
       "\t2 & member & Friday   & 496.7268\\\\\n",
       "\t3 & casual & Monday   & 635.8054\\\\\n",
       "\t4 & member & Monday   & 500.5908\\\\\n",
       "\t5 & casual & Saturday & 659.8230\\\\\n",
       "\\end{tabular}\n"
      ],
      "text/markdown": [
       "\n",
       "A data.frame: 5 × 3\n",
       "\n",
       "| <!--/--> | bike_trips_2019_v2$member_casual &lt;chr&gt; | bike_trips_2019_v2$day_of_the_week &lt;chr&gt; | bike_trips_2019_v2$tripduration &lt;dbl&gt; |\n",
       "|---|---|---|---|\n",
       "| 1 | casual | Friday   | 636.8237 |\n",
       "| 2 | member | Friday   | 496.7268 |\n",
       "| 3 | casual | Monday   | 635.8054 |\n",
       "| 4 | member | Monday   | 500.5908 |\n",
       "| 5 | casual | Saturday | 659.8230 |\n",
       "\n"
      ],
      "text/plain": [
       "  bike_trips_2019_v2$member_casual bike_trips_2019_v2$day_of_the_week\n",
       "1 casual                           Friday                            \n",
       "2 member                           Friday                            \n",
       "3 casual                           Monday                            \n",
       "4 member                           Monday                            \n",
       "5 casual                           Saturday                          \n",
       "  bike_trips_2019_v2$tripduration\n",
       "1 636.8237                       \n",
       "2 496.7268                       \n",
       "3 635.8054                       \n",
       "4 500.5908                       \n",
       "5 659.8230                       "
      ]
     },
     "metadata": {},
     "output_type": "display_data"
    }
   ],
   "source": [
    "head(aggregate(bike_trips_2019_v2$tripduration~bike_trips_2019_v2$member_casual\n",
    "               + bike_trips_2019_v2$day_of_the_week, FUN = mean), 5)"
   ]
  },
  {
   "cell_type": "code",
   "execution_count": 22,
   "id": "8a55f10a",
   "metadata": {
    "execution": {
     "iopub.execute_input": "2022-05-10T10:12:28.241193Z",
     "iopub.status.busy": "2022-05-10T10:12:28.239665Z",
     "iopub.status.idle": "2022-05-10T10:12:28.445721Z",
     "shell.execute_reply": "2022-05-10T10:12:28.443838Z"
    },
    "papermill": {
     "duration": 0.222612,
     "end_time": "2022-05-10T10:12:28.447966",
     "exception": false,
     "start_time": "2022-05-10T10:12:28.225354",
     "status": "completed"
    },
    "tags": []
   },
   "outputs": [
    {
     "name": "stderr",
     "output_type": "stream",
     "text": [
      "\u001b[1m\u001b[22m`summarise()` has grouped output by 'member_casual'. You can override using the\n",
      "`.groups` argument.\n"
     ]
    },
    {
     "data": {
      "text/html": [
       "<table class=\"dataframe\">\n",
       "<caption>A grouped_df: 5 × 4</caption>\n",
       "<thead>\n",
       "\t<tr><th scope=col>member_casual</th><th scope=col>month</th><th scope=col>number_of_rides</th><th scope=col>average_duration</th></tr>\n",
       "\t<tr><th scope=col>&lt;chr&gt;</th><th scope=col>&lt;chr&gt;</th><th scope=col>&lt;int&gt;</th><th scope=col>&lt;dbl&gt;</th></tr>\n",
       "</thead>\n",
       "<tbody>\n",
       "\t<tr><td>casual</td><td>Apr</td><td>11400</td><td>647.5807</td></tr>\n",
       "\t<tr><td>casual</td><td>Aug</td><td>51291</td><td>652.3929</td></tr>\n",
       "\t<tr><td>casual</td><td>Dec</td><td> 6304</td><td>606.8428</td></tr>\n",
       "\t<tr><td>casual</td><td>Feb</td><td> 1237</td><td>588.3420</td></tr>\n",
       "\t<tr><td>casual</td><td>Jan</td><td> 1697</td><td>612.5946</td></tr>\n",
       "</tbody>\n",
       "</table>\n"
      ],
      "text/latex": [
       "A grouped\\_df: 5 × 4\n",
       "\\begin{tabular}{llll}\n",
       " member\\_casual & month & number\\_of\\_rides & average\\_duration\\\\\n",
       " <chr> & <chr> & <int> & <dbl>\\\\\n",
       "\\hline\n",
       "\t casual & Apr & 11400 & 647.5807\\\\\n",
       "\t casual & Aug & 51291 & 652.3929\\\\\n",
       "\t casual & Dec &  6304 & 606.8428\\\\\n",
       "\t casual & Feb &  1237 & 588.3420\\\\\n",
       "\t casual & Jan &  1697 & 612.5946\\\\\n",
       "\\end{tabular}\n"
      ],
      "text/markdown": [
       "\n",
       "A grouped_df: 5 × 4\n",
       "\n",
       "| member_casual &lt;chr&gt; | month &lt;chr&gt; | number_of_rides &lt;int&gt; | average_duration &lt;dbl&gt; |\n",
       "|---|---|---|---|\n",
       "| casual | Apr | 11400 | 647.5807 |\n",
       "| casual | Aug | 51291 | 652.3929 |\n",
       "| casual | Dec |  6304 | 606.8428 |\n",
       "| casual | Feb |  1237 | 588.3420 |\n",
       "| casual | Jan |  1697 | 612.5946 |\n",
       "\n"
      ],
      "text/plain": [
       "  member_casual month number_of_rides average_duration\n",
       "1 casual        Apr   11400           647.5807        \n",
       "2 casual        Aug   51291           652.3929        \n",
       "3 casual        Dec    6304           606.8428        \n",
       "4 casual        Feb    1237           588.3420        \n",
       "5 casual        Jan    1697           612.5946        "
      ]
     },
     "metadata": {},
     "output_type": "display_data"
    }
   ],
   "source": [
    "head(bike_trips_2019_v2 %>% \n",
    "  group_by(member_casual, month) %>%\n",
    "  summarise(number_of_rides = n(),\n",
    "            average_duration = mean(tripduration)), 5)\n"
   ]
  },
  {
   "cell_type": "code",
   "execution_count": 23,
   "id": "652c339e",
   "metadata": {
    "execution": {
     "iopub.execute_input": "2022-05-10T10:12:28.476708Z",
     "iopub.status.busy": "2022-05-10T10:12:28.475047Z",
     "iopub.status.idle": "2022-05-10T10:12:29.348921Z",
     "shell.execute_reply": "2022-05-10T10:12:29.346930Z"
    },
    "papermill": {
     "duration": 0.890667,
     "end_time": "2022-05-10T10:12:29.351280",
     "exception": false,
     "start_time": "2022-05-10T10:12:28.460613",
     "status": "completed"
    },
    "tags": []
   },
   "outputs": [
    {
     "name": "stderr",
     "output_type": "stream",
     "text": [
      "\u001b[1m\u001b[22m`summarise()` has grouped output by 'member_casual'. You can override using the\n",
      "`.groups` argument.\n"
     ]
    }
   ],
   "source": [
    "bike_trips_2019_v3 <-\n",
    "bike_trips_2019_v2 %>% \n",
    "  group_by(member_casual, day_of_the_week) %>%\n",
    "  summarise(number_of_rides = n(),\n",
    "            average_duration = mean(tripduration))"
   ]
  },
  {
   "cell_type": "code",
   "execution_count": 24,
   "id": "f3ef8193",
   "metadata": {
    "execution": {
     "iopub.execute_input": "2022-05-10T10:12:29.381175Z",
     "iopub.status.busy": "2022-05-10T10:12:29.379535Z",
     "iopub.status.idle": "2022-05-10T10:12:29.939715Z",
     "shell.execute_reply": "2022-05-10T10:12:29.937164Z"
    },
    "papermill": {
     "duration": 0.578187,
     "end_time": "2022-05-10T10:12:29.942916",
     "exception": false,
     "start_time": "2022-05-10T10:12:29.364729",
     "status": "completed"
    },
    "tags": []
   },
   "outputs": [
    {
     "data": {
      "image/png": "[encoded data removed]"
     },
     "metadata": {
      "image/png": {
       "height": 420,
       "width": 420
      }
     },
     "output_type": "display_data"
    }
   ],
   "source": [
    "bike_trips_2019_v3 <- bike_trips_2019_v3 [-15,]\n",
    "bike_trips_2019_v3 %>%\n",
    "  ggplot(aes(x = day_of_the_week, y = number_of_rides, fill = member_casual)) +\n",
    "geom_col(position = 'dodge') + coord_flip() + labs(title = 'Days vs. Rider Numbers')"
   ]
  },
  {
   "cell_type": "code",
   "execution_count": 25,
   "id": "cdd6870e",
   "metadata": {
    "execution": {
     "iopub.execute_input": "2022-05-10T10:12:29.981207Z",
     "iopub.status.busy": "2022-05-10T10:12:29.979393Z",
     "iopub.status.idle": "2022-05-10T10:12:30.139148Z",
     "shell.execute_reply": "2022-05-10T10:12:30.137195Z"
    },
    "papermill": {
     "duration": 0.182275,
     "end_time": "2022-05-10T10:12:30.141943",
     "exception": false,
     "start_time": "2022-05-10T10:12:29.959668",
     "status": "completed"
    },
    "tags": []
   },
   "outputs": [
    {
     "name": "stderr",
     "output_type": "stream",
     "text": [
      "\u001b[1m\u001b[22m`summarise()` has grouped output by 'member_casual'. You can override using the\n",
      "`.groups` argument.\n"
     ]
    }
   ],
   "source": [
    "bike_trips_2019_v4 <- bike_trips_2019_v2 %>% \n",
    "  group_by(member_casual, month) %>%\n",
    "  summarise(number_of_rides = n(),\n",
    "            average_duration = mean(tripduration))"
   ]
  },
  {
   "cell_type": "code",
   "execution_count": 26,
   "id": "c138522a",
   "metadata": {
    "execution": {
     "iopub.execute_input": "2022-05-10T10:12:30.172812Z",
     "iopub.status.busy": "2022-05-10T10:12:30.171008Z",
     "iopub.status.idle": "2022-05-10T10:12:30.484624Z",
     "shell.execute_reply": "2022-05-10T10:12:30.482636Z"
    },
    "papermill": {
     "duration": 0.331477,
     "end_time": "2022-05-10T10:12:30.486931",
     "exception": false,
     "start_time": "2022-05-10T10:12:30.155454",
     "status": "completed"
    },
    "tags": []
   },
   "outputs": [
    {
     "data": {
      "image/png": "[encoded data removed]"
     },
     "metadata": {
      "image/png": {
       "height": 420,
       "width": 420
      }
     },
     "output_type": "display_data"
    }
   ],
   "source": [
    "bike_trips_2019_v4 %>%\n",
    "  ggplot(aes(x = month, y = number_of_rides, fill = member_casual)) + \n",
    "geom_col(position = 'dodge') + coord_flip() + labs(title = 'Months vs. Rider Numbers')"
   ]
  },
  {
   "cell_type": "code",
   "execution_count": 27,
   "id": "a1fd55b5",
   "metadata": {
    "execution": {
     "iopub.execute_input": "2022-05-10T10:12:30.519174Z",
     "iopub.status.busy": "2022-05-10T10:12:30.517432Z",
     "iopub.status.idle": "2022-05-10T10:12:30.795177Z",
     "shell.execute_reply": "2022-05-10T10:12:30.793175Z"
    },
    "papermill": {
     "duration": 0.29617,
     "end_time": "2022-05-10T10:12:30.797488",
     "exception": false,
     "start_time": "2022-05-10T10:12:30.501318",
     "status": "completed"
    },
    "tags": []
   },
   "outputs": [
    {
     "data": {
      "image/png": "[encoded data removed]"
     },
     "metadata": {
      "image/png": {
       "height": 420,
       "width": 420
      }
     },
     "output_type": "display_data"
    }
   ],
   "source": [
    "bike_trips_2019_v3 %>%\n",
    "  ggplot(aes(x = day_of_the_week, y = average_duration, fill = member_casual)) +\n",
    "geom_col(position = 'dodge') + coord_flip() + \n",
    "labs(title = 'Days vs. Average Ride Duration (seconds)')"
   ]
  },
  {
   "cell_type": "code",
   "execution_count": 28,
   "id": "26a8b95b",
   "metadata": {
    "execution": {
     "iopub.execute_input": "2022-05-10T10:12:30.831613Z",
     "iopub.status.busy": "2022-05-10T10:12:30.829815Z",
     "iopub.status.idle": "2022-05-10T10:12:31.110663Z",
     "shell.execute_reply": "2022-05-10T10:12:31.108634Z"
    },
    "papermill": {
     "duration": 0.300208,
     "end_time": "2022-05-10T10:12:31.112934",
     "exception": false,
     "start_time": "2022-05-10T10:12:30.812726",
     "status": "completed"
    },
    "tags": []
   },
   "outputs": [
    {
     "data": {
      "image/png": "[encoded data removed]"
     },
     "metadata": {
      "image/png": {
       "height": 420,
       "width": 420
      }
     },
     "output_type": "display_data"
    }
   ],
   "source": [
    "bike_trips_2019_v4 %>%\n",
    "  ggplot(aes(x = month, y = average_duration, fill = member_casual)) + \n",
    "geom_col(position = 'dodge') + \n",
    "coord_flip() + labs(title = 'Months vs. Average Ride Duration (seconds)')"
   ]
  },
  {
   "cell_type": "markdown",
   "id": "6ec5a735",
   "metadata": {
    "papermill": {
     "duration": 0.015824,
     "end_time": "2022-05-10T10:12:31.144411",
     "exception": false,
     "start_time": "2022-05-10T10:12:31.128587",
     "status": "completed"
    },
    "tags": []
   },
   "source": [
    "## Conclusion\n",
    "I noticed Saturday and Sunday are the days with the highest number of rides for the casual group and also within the group of casual riders those days have the highest ride duration, most likely because they use the bikes for things like exercise and leisure activities. Also another thing I noticed in this data set is that in the months synonymous to the summer period the number of casual riders increase as well as the average ride duration of casual riders. I would suggest making discounted prices during the summer period, for incoming members to compel the casual group into subscribing to a membership plan and also creating exercise themed ads to encourage casual riders to become members."
   ]
  }
 ],
 "metadata": {
  "kernelspec": {
   "display_name": "R",
   "language": "R",
   "name": "ir"
  },
  "language_info": {
   "codemirror_mode": "r",
   "file_extension": ".r",
   "mimetype": "text/x-r-source",
   "name": "R",
   "pygments_lexer": "r",
   "version": "4.0.5"
  },
  "papermill": {
   "default_parameters": {},
   "duration": 145.753531,
   "end_time": "2022-05-10T10:12:31.383375",
   "environment_variables": {},
   "exception": null,
   "input_path": "__notebook__.ipynb",
   "output_path": "__notebook__.ipynb",
   "parameters": {},
   "start_time": "2022-05-10T10:10:05.629844",
   "version": "2.3.4"
  }
 },
 "nbformat": 4,
 "nbformat_minor": 5
}
